{
  "nbformat": 4,
  "nbformat_minor": 0,
  "metadata": {
    "colab": {
      "provenance": [],
      "authorship_tag": "ABX9TyMLtwC3nGTemTF5raMajbQd",
      "include_colab_link": true
    },
    "kernelspec": {
      "name": "python3",
      "display_name": "Python 3"
    },
    "language_info": {
      "name": "python"
    }
  },
  "cells": [
    {
      "cell_type": "markdown",
      "metadata": {
        "id": "view-in-github",
        "colab_type": "text"
      },
      "source": [
        "<a href=\"https://colab.research.google.com/github/ntxuan1799/Well-Being-in-Higher-Education/blob/main/Well_being_paper_getdata.ipynb\" target=\"_parent\"><img src=\"https://colab.research.google.com/assets/colab-badge.svg\" alt=\"Open In Colab\"/></a>"
      ]
    },
    {
      "cell_type": "code",
      "execution_count": 6,
      "metadata": {
        "colab": {
          "base_uri": "https://localhost:8080/"
        },
        "id": "WNM_WYr62whv",
        "outputId": "9538fa3b-ff6f-4aa3-b980-a57b0c6cf928"
      },
      "outputs": [
        {
          "output_type": "stream",
          "name": "stdout",
          "text": [
            "Requirement already satisfied: pandas in /usr/local/lib/python3.11/dist-packages (2.2.2)\n",
            "Requirement already satisfied: openpyxl in /usr/local/lib/python3.11/dist-packages (3.1.5)\n",
            "Requirement already satisfied: numpy>=1.23.2 in /usr/local/lib/python3.11/dist-packages (from pandas) (2.0.2)\n",
            "Requirement already satisfied: python-dateutil>=2.8.2 in /usr/local/lib/python3.11/dist-packages (from pandas) (2.9.0.post0)\n",
            "Requirement already satisfied: pytz>=2020.1 in /usr/local/lib/python3.11/dist-packages (from pandas) (2025.2)\n",
            "Requirement already satisfied: tzdata>=2022.7 in /usr/local/lib/python3.11/dist-packages (from pandas) (2025.2)\n",
            "Requirement already satisfied: et-xmlfile in /usr/local/lib/python3.11/dist-packages (from openpyxl) (2.0.0)\n",
            "Requirement already satisfied: six>=1.5 in /usr/local/lib/python3.11/dist-packages (from python-dateutil>=2.8.2->pandas) (1.17.0)\n"
          ]
        }
      ],
      "source": [
        "!pip install pandas openpyxl"
      ]
    },
    {
      "cell_type": "code",
      "source": [
        "!pip uninstall serpapi -y"
      ],
      "metadata": {
        "colab": {
          "base_uri": "https://localhost:8080/"
        },
        "id": "DEk39xrh6l2w",
        "outputId": "d33a34a5-7a01-4560-e8e8-661eed0158f0"
      },
      "execution_count": 2,
      "outputs": [
        {
          "output_type": "stream",
          "name": "stdout",
          "text": [
            "Found existing installation: serpapi 0.1.5\n",
            "Uninstalling serpapi-0.1.5:\n",
            "  Successfully uninstalled serpapi-0.1.5\n"
          ]
        }
      ]
    },
    {
      "cell_type": "code",
      "source": [
        "!pip install git+https://github.com/serpapi/google-search-results-python.git"
      ],
      "metadata": {
        "colab": {
          "base_uri": "https://localhost:8080/",
          "height": 439
        },
        "id": "ut4qqdfw57fr",
        "outputId": "f83235f4-29c4-4555-91cd-e8d023b7a71c"
      },
      "execution_count": 3,
      "outputs": [
        {
          "output_type": "stream",
          "name": "stdout",
          "text": [
            "Collecting git+https://github.com/serpapi/google-search-results-python.git\n",
            "  Cloning https://github.com/serpapi/google-search-results-python.git to /tmp/pip-req-build-0bwks63j\n",
            "  Running command git clone --filter=blob:none --quiet https://github.com/serpapi/google-search-results-python.git /tmp/pip-req-build-0bwks63j\n",
            "  Resolved https://github.com/serpapi/google-search-results-python.git to commit 264be6d62fda3e38114b7df5dfc1d3f480e58507\n",
            "  Preparing metadata (setup.py) ... \u001b[?25l\u001b[?25hdone\n",
            "Requirement already satisfied: requests in /usr/local/lib/python3.11/dist-packages (from google_search_results==2.4.2) (2.32.3)\n",
            "Requirement already satisfied: charset-normalizer<4,>=2 in /usr/local/lib/python3.11/dist-packages (from requests->google_search_results==2.4.2) (3.4.2)\n",
            "Requirement already satisfied: idna<4,>=2.5 in /usr/local/lib/python3.11/dist-packages (from requests->google_search_results==2.4.2) (3.10)\n",
            "Requirement already satisfied: urllib3<3,>=1.21.1 in /usr/local/lib/python3.11/dist-packages (from requests->google_search_results==2.4.2) (2.4.0)\n",
            "Requirement already satisfied: certifi>=2017.4.17 in /usr/local/lib/python3.11/dist-packages (from requests->google_search_results==2.4.2) (2025.7.9)\n",
            "Building wheels for collected packages: google_search_results\n",
            "  Building wheel for google_search_results (setup.py) ... \u001b[?25l\u001b[?25hdone\n",
            "  Created wheel for google_search_results: filename=google_search_results-2.4.2-py3-none-any.whl size=34335 sha256=cc5f6c637abbe8fdceeb89d07d365eaedb8187298b93867767f355ba3b798cfd\n",
            "  Stored in directory: /tmp/pip-ephem-wheel-cache-0f606geg/wheels/9a/08/98/d012fd663f2f8190b0bde004bd6f4a2666acf57da2b5ad9e70\n",
            "Successfully built google_search_results\n",
            "Installing collected packages: google_search_results\n",
            "Successfully installed google_search_results-2.4.2\n"
          ]
        },
        {
          "output_type": "display_data",
          "data": {
            "application/vnd.colab-display-data+json": {
              "pip_warning": {
                "packages": [
                  "serpapi"
                ]
              },
              "id": "2661bc2add64410aa91fdc1caec23c25"
            }
          },
          "metadata": {}
        }
      ]
    },
    {
      "cell_type": "code",
      "source": [
        "from serpapi import GoogleSearch\n",
        "import pandas as pd"
      ],
      "metadata": {
        "id": "TezoF6EQ5QQO"
      },
      "execution_count": 1,
      "outputs": []
    },
    {
      "cell_type": "code",
      "source": [
        "def search_academic_links(keywords, serpapi_key):\n",
        "    # Academic sources, including IEEE\n",
        "    academic_sites = [\n",
        "        \"site:ieee.org\", \"site:nature.com\", \"site:springer.com\", \"site:sciencedirect.com\",\n",
        "        \"site:researchgate.net\", \"site:jstor.org\", \"site:wiley.com\",\n",
        "        \"site:scopus.com\", \"site:mdpi.com\", \"site:frontiersin.org\"\n",
        "    ]\n",
        "\n",
        "    academic_filter = \" OR \".join(academic_sites)\n",
        "\n",
        "    results = []\n",
        "\n",
        "    for keyword in keywords:\n",
        "        query = f\"{keyword} {academic_filter}\"\n",
        "        print(f\"Searching: {query}\")\n",
        "\n",
        "        search = GoogleSearch({\n",
        "            \"q\": query,\n",
        "            \"num\": \"10\",\n",
        "            \"hl\": \"en\",\n",
        "            \"api_key\": serpapi_key\n",
        "        })\n",
        "\n",
        "        response = search.get_dict()\n",
        "\n",
        "        for result in response.get(\"organic_results\", []):\n",
        "            link = result.get(\"link\")\n",
        "            if any(domain in link for domain in [\n",
        "                \"ieee.org\", \"springer.com\", \"sciencedirect.com\", \"nature.com\",\n",
        "                \"researchgate.net\", \"jstor.org\", \"wiley.com\", \"scopus.com\",\n",
        "                \"mdpi.com\", \"frontiersin.org\"\n",
        "            ]):\n",
        "                results.append({\n",
        "                    \"Keyword\": keyword,\n",
        "                    \"Title\": result.get(\"title\"),\n",
        "                    \"Snippet\": result.get(\"snippet\"),\n",
        "                    \"Link\": link\n",
        "                })\n",
        "\n",
        "    return pd.DataFrame(results)"
      ],
      "metadata": {
        "id": "_0jw8grb5dR0"
      },
      "execution_count": 2,
      "outputs": []
    },
    {
      "cell_type": "code",
      "source": [
        "if __name__ == \"__main__\":\n",
        "    keywords = [\n",
        "      [\"performance management\", \"wellbeing\", \"higher education\"],\n",
        "      [\"staff evaluation\", \"mental health\", \"universities\"],\n",
        "      [\"performance review\", \"burnout\", \"academic institutions\"],\n",
        "      [\"institutional performance\", \"staff satisfaction\", \"tertiary education\"],\n",
        "      [\"performance assessment\", \"psychological safety\", \"higher education\"],\n",
        "      [\"performance appraisal\", \"work-life balance\", \"university\"],\n",
        "      [\"academic kpi\", \"emotional wellbeing\", \"college\"],\n",
        "      [\"teaching quality\", \"staff wellbeing\", \"university\"],\n",
        "      [\"faculty performance\", \"stress\", \"higher education\"],\n",
        "      [\"employee performance\", \"resilience\", \"academic institution\"]\n",
        "    ]\n",
        "\n",
        "    serpapi_key = \"853c4ee112ed3935167bfc0c2821cfd441bbc4ae3c1fac136fc61bc613493ac2\"\n",
        "\n",
        "    df = search_academic_links(keywords, serpapi_key)\n",
        "\n",
        "    # Save to Excel\n",
        "    output_file = \"academic_papers_links.xlsx\"\n",
        "    df.to_excel(output_file, index=False)\n",
        "\n",
        "    print(f\"\\ Done! Results saved to {output_file}\")\n",
        "    print(df.head())"
      ],
      "metadata": {
        "colab": {
          "base_uri": "https://localhost:8080/"
        },
        "id": "D5YCKJZd5xvF",
        "outputId": "eff40403-b13a-44b0-e084-ea575976755f"
      },
      "execution_count": 3,
      "outputs": [
        {
          "output_type": "stream",
          "name": "stdout",
          "text": [
            "Searching: ['performance management', 'wellbeing', 'higher education'] site:ieee.org OR site:nature.com OR site:springer.com OR site:sciencedirect.com OR site:researchgate.net OR site:jstor.org OR site:wiley.com OR site:scopus.com OR site:mdpi.com OR site:frontiersin.org\n",
            "Searching: ['staff evaluation', 'mental health', 'universities'] site:ieee.org OR site:nature.com OR site:springer.com OR site:sciencedirect.com OR site:researchgate.net OR site:jstor.org OR site:wiley.com OR site:scopus.com OR site:mdpi.com OR site:frontiersin.org\n",
            "Searching: ['performance review', 'burnout', 'academic institutions'] site:ieee.org OR site:nature.com OR site:springer.com OR site:sciencedirect.com OR site:researchgate.net OR site:jstor.org OR site:wiley.com OR site:scopus.com OR site:mdpi.com OR site:frontiersin.org\n",
            "Searching: ['institutional performance', 'staff satisfaction', 'tertiary education'] site:ieee.org OR site:nature.com OR site:springer.com OR site:sciencedirect.com OR site:researchgate.net OR site:jstor.org OR site:wiley.com OR site:scopus.com OR site:mdpi.com OR site:frontiersin.org\n",
            "Searching: ['performance assessment', 'psychological safety', 'higher education'] site:ieee.org OR site:nature.com OR site:springer.com OR site:sciencedirect.com OR site:researchgate.net OR site:jstor.org OR site:wiley.com OR site:scopus.com OR site:mdpi.com OR site:frontiersin.org\n",
            "Searching: ['performance appraisal', 'work-life balance', 'university'] site:ieee.org OR site:nature.com OR site:springer.com OR site:sciencedirect.com OR site:researchgate.net OR site:jstor.org OR site:wiley.com OR site:scopus.com OR site:mdpi.com OR site:frontiersin.org\n",
            "Searching: ['academic kpi', 'emotional wellbeing', 'college'] site:ieee.org OR site:nature.com OR site:springer.com OR site:sciencedirect.com OR site:researchgate.net OR site:jstor.org OR site:wiley.com OR site:scopus.com OR site:mdpi.com OR site:frontiersin.org\n",
            "Searching: ['teaching quality', 'staff wellbeing', 'university'] site:ieee.org OR site:nature.com OR site:springer.com OR site:sciencedirect.com OR site:researchgate.net OR site:jstor.org OR site:wiley.com OR site:scopus.com OR site:mdpi.com OR site:frontiersin.org\n",
            "Searching: ['faculty performance', 'stress', 'higher education'] site:ieee.org OR site:nature.com OR site:springer.com OR site:sciencedirect.com OR site:researchgate.net OR site:jstor.org OR site:wiley.com OR site:scopus.com OR site:mdpi.com OR site:frontiersin.org\n",
            "Searching: ['employee performance', 'resilience', 'academic institution'] site:ieee.org OR site:nature.com OR site:springer.com OR site:sciencedirect.com OR site:researchgate.net OR site:jstor.org OR site:wiley.com OR site:scopus.com OR site:mdpi.com OR site:frontiersin.org\n",
            "\\ Done! Results saved to academic_papers_links.xlsx\n",
            "                                             Keyword  \\\n",
            "0  [performance management, wellbeing, higher edu...   \n",
            "1  [performance management, wellbeing, higher edu...   \n",
            "2  [performance management, wellbeing, higher edu...   \n",
            "3  [performance management, wellbeing, higher edu...   \n",
            "4  [performance management, wellbeing, higher edu...   \n",
            "\n",
            "                                               Title  \\\n",
            "0  Performance management and well-being: a close...   \n",
            "1  Performance management implementation in highe...   \n",
            "2  A review of performance management systems in ...   \n",
            "3  Performance management and well-being at the w...   \n",
            "4  Tipping point: The staff wellbeing crisis in h...   \n",
            "\n",
            "                                             Snippet  \\\n",
            "0  We specifically investigate the association be...   \n",
            "1  Page 1. Performance management implementation ...   \n",
            "2  This paper is based on a review of literature ...   \n",
            "3  In this chapter, we examine current research o...   \n",
            "4  Our concerns relate specifically to the impact...   \n",
            "\n",
            "                                                Link  \n",
            "0  https://www.researchgate.net/publication/31735...  \n",
            "1  https://www.researchgate.net/profile/Robin_Bau...  \n",
            "2  https://www.researchgate.net/publication/36561...  \n",
            "3  https://www.researchgate.net/publication/35549...  \n",
            "4  https://www.frontiersin.org/journals/education...  \n"
          ]
        }
      ]
    }
  ]
}