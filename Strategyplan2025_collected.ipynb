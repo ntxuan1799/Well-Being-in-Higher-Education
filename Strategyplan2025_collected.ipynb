{
  "nbformat": 4,
  "nbformat_minor": 0,
  "metadata": {
    "colab": {
      "provenance": [],
      "authorship_tag": "ABX9TyMGE5Bn5mEDiE1hoxZAH3jc",
      "include_colab_link": true
    },
    "kernelspec": {
      "name": "python3",
      "display_name": "Python 3"
    },
    "language_info": {
      "name": "python"
    }
  },
  "cells": [
    {
      "cell_type": "markdown",
      "metadata": {
        "id": "view-in-github",
        "colab_type": "text"
      },
      "source": [
        "<a href=\"https://colab.research.google.com/github/ntxuan1799/Well-Being-in-Higher-Education/blob/Get-Data/Strategyplan2025_collected.ipynb\" target=\"_parent\"><img src=\"https://colab.research.google.com/assets/colab-badge.svg\" alt=\"Open In Colab\"/></a>"
      ]
    },
    {
      "cell_type": "code",
      "execution_count": 1,
      "metadata": {
        "colab": {
          "base_uri": "https://localhost:8080/"
        },
        "id": "ofK-cKfH4f1G",
        "outputId": "6aae48cb-e218-412c-97fc-9ee473f73f3b"
      },
      "outputs": [
        {
          "output_type": "stream",
          "name": "stdout",
          "text": [
            "Requirement already satisfied: pandas in /usr/local/lib/python3.11/dist-packages (2.2.2)\n",
            "Requirement already satisfied: openpyxl in /usr/local/lib/python3.11/dist-packages (3.1.5)\n",
            "Requirement already satisfied: numpy>=1.23.2 in /usr/local/lib/python3.11/dist-packages (from pandas) (2.0.2)\n",
            "Requirement already satisfied: python-dateutil>=2.8.2 in /usr/local/lib/python3.11/dist-packages (from pandas) (2.9.0.post0)\n",
            "Requirement already satisfied: pytz>=2020.1 in /usr/local/lib/python3.11/dist-packages (from pandas) (2025.2)\n",
            "Requirement already satisfied: tzdata>=2022.7 in /usr/local/lib/python3.11/dist-packages (from pandas) (2025.2)\n",
            "Requirement already satisfied: et-xmlfile in /usr/local/lib/python3.11/dist-packages (from openpyxl) (2.0.0)\n",
            "Requirement already satisfied: six>=1.5 in /usr/local/lib/python3.11/dist-packages (from python-dateutil>=2.8.2->pandas) (1.17.0)\n"
          ]
        }
      ],
      "source": [
        "!pip install pandas openpyxl"
      ]
    },
    {
      "cell_type": "code",
      "source": [
        "!pip install git+https://github.com/serpapi/google-search-results-python.git"
      ],
      "metadata": {
        "colab": {
          "base_uri": "https://localhost:8080/"
        },
        "id": "loWai_6g6BSM",
        "outputId": "945fcd7d-9505-45ae-a4f4-d4214abaa1ca"
      },
      "execution_count": 2,
      "outputs": [
        {
          "output_type": "stream",
          "name": "stdout",
          "text": [
            "Collecting git+https://github.com/serpapi/google-search-results-python.git\n",
            "  Cloning https://github.com/serpapi/google-search-results-python.git to /tmp/pip-req-build-6jp7mkur\n",
            "  Running command git clone --filter=blob:none --quiet https://github.com/serpapi/google-search-results-python.git /tmp/pip-req-build-6jp7mkur\n",
            "  Resolved https://github.com/serpapi/google-search-results-python.git to commit 264be6d62fda3e38114b7df5dfc1d3f480e58507\n",
            "  Preparing metadata (setup.py) ... \u001b[?25l\u001b[?25hdone\n",
            "Requirement already satisfied: requests in /usr/local/lib/python3.11/dist-packages (from google_search_results==2.4.2) (2.32.3)\n",
            "Requirement already satisfied: charset-normalizer<4,>=2 in /usr/local/lib/python3.11/dist-packages (from requests->google_search_results==2.4.2) (3.4.2)\n",
            "Requirement already satisfied: idna<4,>=2.5 in /usr/local/lib/python3.11/dist-packages (from requests->google_search_results==2.4.2) (3.10)\n",
            "Requirement already satisfied: urllib3<3,>=1.21.1 in /usr/local/lib/python3.11/dist-packages (from requests->google_search_results==2.4.2) (2.4.0)\n",
            "Requirement already satisfied: certifi>=2017.4.17 in /usr/local/lib/python3.11/dist-packages (from requests->google_search_results==2.4.2) (2025.7.9)\n",
            "Building wheels for collected packages: google_search_results\n",
            "  Building wheel for google_search_results (setup.py) ... \u001b[?25l\u001b[?25hdone\n",
            "  Created wheel for google_search_results: filename=google_search_results-2.4.2-py3-none-any.whl size=34335 sha256=2258b5a0e609a8c0f7efbe4974843757acb1cdd66f0305665d92dbc0faf95c92\n",
            "  Stored in directory: /tmp/pip-ephem-wheel-cache-_9cb68md/wheels/9a/08/98/d012fd663f2f8190b0bde004bd6f4a2666acf57da2b5ad9e70\n",
            "Successfully built google_search_results\n",
            "Installing collected packages: google_search_results\n",
            "Successfully installed google_search_results-2.4.2\n"
          ]
        }
      ]
    },
    {
      "cell_type": "code",
      "source": [
        "from serpapi import GoogleSearch\n",
        "import pandas as pd"
      ],
      "metadata": {
        "id": "XA2WOqhL6Dkm"
      },
      "execution_count": 3,
      "outputs": []
    },
    {
      "cell_type": "code",
      "source": [
        "api_key = \"f3601a9639121bfa22b7e57ba9f24bc69744752fb0e0c8a78f492689867eb45d\""
      ],
      "metadata": {
        "id": "Gbds8tYD6Eoj"
      },
      "execution_count": 13,
      "outputs": []
    },
    {
      "cell_type": "code",
      "source": [
        "domains = [\n",
        "    \"unimelb.edu.au\",\n",
        "    \"monash.edu\",\n",
        "    \"rmit.edu.au\",\n",
        "    \"deakin.edu.au\",\n",
        "    \"latrobe.edu.au\",\n",
        "    \"swinburne.edu.au\",\n",
        "    \"vu.edu.au\",\n",
        "    \"federation.edu.au\"\n",
        "]"
      ],
      "metadata": {
        "id": "-yzA21ok6OM1"
      },
      "execution_count": 14,
      "outputs": []
    },
    {
      "cell_type": "code",
      "source": [
        "keyword_groups = [\n",
        "    [\"strategy plan 2025\", \"performance management\", \"wellbeing\", \"higher education\"],\n",
        "    [\"strategy plan 2025\", \"staff evaluation\", \"mental health\", \"universities\"],\n",
        "    [\"strategy plan 2025\", \"performance review\", \"burnout\", \"academic institutions\"],\n",
        "    [\"strategy plan 2025\", \"institutional performance\", \"staff satisfaction\", \"tertiary education\"],\n",
        "    [\"strategy plan 2025\", \"performance assessment\", \"psychological safety\", \"higher education\"],\n",
        "    [\"strategy plan 2025\", \"performance appraisal\", \"work-life balance\", \"university\"],\n",
        "    [\"strategy plan 2025\", \"academic kpi\", \"emotional wellbeing\", \"college\"],\n",
        "    [\"strategy plan 2025\", \"teaching quality\", \"staff wellbeing\", \"university\"],\n",
        "    [\"strategy plan 2025\", \"faculty performance\", \"stress\", \"higher education\"]\n",
        "]"
      ],
      "metadata": {
        "id": "QMb7hibA6PKJ"
      },
      "execution_count": 15,
      "outputs": []
    },
    {
      "cell_type": "code",
      "source": [
        "results_all = []\n",
        "\n",
        "for domain in domains:\n",
        "    for group in keyword_groups:\n",
        "        # build the query: all words in quotes to enforce presence\n",
        "        words = \" \".join([f'\"{word}\"' for word in group])\n",
        "        query = f\"{words} site:{domain} filetype:pdf\"\n",
        "        print(f\"Searching: {query}\")\n",
        "\n",
        "        search = GoogleSearch({\n",
        "            \"q\": query,\n",
        "            \"num\": 10,\n",
        "            \"hl\": \"en\",\n",
        "            \"api_key\": api_key\n",
        "        })\n",
        "\n",
        "        response = search.get_dict()\n",
        "\n",
        "        for result in response.get(\"organic_results\", []):\n",
        "            results_all.append({\n",
        "                \"Domain\": domain,\n",
        "                \"Keyword Group\": \", \".join(group),\n",
        "                \"Title\": result.get(\"title\"),\n",
        "                \"Snippet\": result.get(\"snippet\"),\n",
        "                \"Link\": result.get(\"link\")\n",
        "            })"
      ],
      "metadata": {
        "colab": {
          "base_uri": "https://localhost:8080/"
        },
        "id": "igRaEAUd6W9J",
        "outputId": "5ec2bca6-b5d6-4fec-b8ad-b3ed7aea9209"
      },
      "execution_count": 16,
      "outputs": [
        {
          "output_type": "stream",
          "name": "stdout",
          "text": [
            "Searching: \"strategy plan 2025\" \"performance management\" \"wellbeing\" \"higher education\" site:unimelb.edu.au filetype:pdf\n",
            "Searching: \"strategy plan 2025\" \"staff evaluation\" \"mental health\" \"universities\" site:unimelb.edu.au filetype:pdf\n",
            "Searching: \"strategy plan 2025\" \"performance review\" \"burnout\" \"academic institutions\" site:unimelb.edu.au filetype:pdf\n",
            "Searching: \"strategy plan 2025\" \"institutional performance\" \"staff satisfaction\" \"tertiary education\" site:unimelb.edu.au filetype:pdf\n",
            "Searching: \"strategy plan 2025\" \"performance assessment\" \"psychological safety\" \"higher education\" site:unimelb.edu.au filetype:pdf\n",
            "Searching: \"strategy plan 2025\" \"performance appraisal\" \"work-life balance\" \"university\" site:unimelb.edu.au filetype:pdf\n",
            "Searching: \"strategy plan 2025\" \"academic kpi\" \"emotional wellbeing\" \"college\" site:unimelb.edu.au filetype:pdf\n",
            "Searching: \"strategy plan 2025\" \"teaching quality\" \"staff wellbeing\" \"university\" site:unimelb.edu.au filetype:pdf\n",
            "Searching: \"strategy plan 2025\" \"faculty performance\" \"stress\" \"higher education\" site:unimelb.edu.au filetype:pdf\n",
            "Searching: \"strategy plan 2025\" \"performance management\" \"wellbeing\" \"higher education\" site:monash.edu filetype:pdf\n",
            "Searching: \"strategy plan 2025\" \"staff evaluation\" \"mental health\" \"universities\" site:monash.edu filetype:pdf\n",
            "Searching: \"strategy plan 2025\" \"performance review\" \"burnout\" \"academic institutions\" site:monash.edu filetype:pdf\n",
            "Searching: \"strategy plan 2025\" \"institutional performance\" \"staff satisfaction\" \"tertiary education\" site:monash.edu filetype:pdf\n",
            "Searching: \"strategy plan 2025\" \"performance assessment\" \"psychological safety\" \"higher education\" site:monash.edu filetype:pdf\n",
            "Searching: \"strategy plan 2025\" \"performance appraisal\" \"work-life balance\" \"university\" site:monash.edu filetype:pdf\n",
            "Searching: \"strategy plan 2025\" \"academic kpi\" \"emotional wellbeing\" \"college\" site:monash.edu filetype:pdf\n",
            "Searching: \"strategy plan 2025\" \"teaching quality\" \"staff wellbeing\" \"university\" site:monash.edu filetype:pdf\n",
            "Searching: \"strategy plan 2025\" \"faculty performance\" \"stress\" \"higher education\" site:monash.edu filetype:pdf\n",
            "Searching: \"strategy plan 2025\" \"performance management\" \"wellbeing\" \"higher education\" site:rmit.edu.au filetype:pdf\n",
            "Searching: \"strategy plan 2025\" \"staff evaluation\" \"mental health\" \"universities\" site:rmit.edu.au filetype:pdf\n",
            "Searching: \"strategy plan 2025\" \"performance review\" \"burnout\" \"academic institutions\" site:rmit.edu.au filetype:pdf\n",
            "Searching: \"strategy plan 2025\" \"institutional performance\" \"staff satisfaction\" \"tertiary education\" site:rmit.edu.au filetype:pdf\n",
            "Searching: \"strategy plan 2025\" \"performance assessment\" \"psychological safety\" \"higher education\" site:rmit.edu.au filetype:pdf\n",
            "Searching: \"strategy plan 2025\" \"performance appraisal\" \"work-life balance\" \"university\" site:rmit.edu.au filetype:pdf\n",
            "Searching: \"strategy plan 2025\" \"academic kpi\" \"emotional wellbeing\" \"college\" site:rmit.edu.au filetype:pdf\n",
            "Searching: \"strategy plan 2025\" \"teaching quality\" \"staff wellbeing\" \"university\" site:rmit.edu.au filetype:pdf\n",
            "Searching: \"strategy plan 2025\" \"faculty performance\" \"stress\" \"higher education\" site:rmit.edu.au filetype:pdf\n",
            "Searching: \"strategy plan 2025\" \"performance management\" \"wellbeing\" \"higher education\" site:deakin.edu.au filetype:pdf\n",
            "Searching: \"strategy plan 2025\" \"staff evaluation\" \"mental health\" \"universities\" site:deakin.edu.au filetype:pdf\n",
            "Searching: \"strategy plan 2025\" \"performance review\" \"burnout\" \"academic institutions\" site:deakin.edu.au filetype:pdf\n",
            "Searching: \"strategy plan 2025\" \"institutional performance\" \"staff satisfaction\" \"tertiary education\" site:deakin.edu.au filetype:pdf\n",
            "Searching: \"strategy plan 2025\" \"performance assessment\" \"psychological safety\" \"higher education\" site:deakin.edu.au filetype:pdf\n",
            "Searching: \"strategy plan 2025\" \"performance appraisal\" \"work-life balance\" \"university\" site:deakin.edu.au filetype:pdf\n",
            "Searching: \"strategy plan 2025\" \"academic kpi\" \"emotional wellbeing\" \"college\" site:deakin.edu.au filetype:pdf\n",
            "Searching: \"strategy plan 2025\" \"teaching quality\" \"staff wellbeing\" \"university\" site:deakin.edu.au filetype:pdf\n",
            "Searching: \"strategy plan 2025\" \"faculty performance\" \"stress\" \"higher education\" site:deakin.edu.au filetype:pdf\n",
            "Searching: \"strategy plan 2025\" \"performance management\" \"wellbeing\" \"higher education\" site:latrobe.edu.au filetype:pdf\n",
            "Searching: \"strategy plan 2025\" \"staff evaluation\" \"mental health\" \"universities\" site:latrobe.edu.au filetype:pdf\n",
            "Searching: \"strategy plan 2025\" \"performance review\" \"burnout\" \"academic institutions\" site:latrobe.edu.au filetype:pdf\n",
            "Searching: \"strategy plan 2025\" \"institutional performance\" \"staff satisfaction\" \"tertiary education\" site:latrobe.edu.au filetype:pdf\n",
            "Searching: \"strategy plan 2025\" \"performance assessment\" \"psychological safety\" \"higher education\" site:latrobe.edu.au filetype:pdf\n",
            "Searching: \"strategy plan 2025\" \"performance appraisal\" \"work-life balance\" \"university\" site:latrobe.edu.au filetype:pdf\n",
            "Searching: \"strategy plan 2025\" \"academic kpi\" \"emotional wellbeing\" \"college\" site:latrobe.edu.au filetype:pdf\n",
            "Searching: \"strategy plan 2025\" \"teaching quality\" \"staff wellbeing\" \"university\" site:latrobe.edu.au filetype:pdf\n",
            "Searching: \"strategy plan 2025\" \"faculty performance\" \"stress\" \"higher education\" site:latrobe.edu.au filetype:pdf\n",
            "Searching: \"strategy plan 2025\" \"performance management\" \"wellbeing\" \"higher education\" site:swinburne.edu.au filetype:pdf\n",
            "Searching: \"strategy plan 2025\" \"staff evaluation\" \"mental health\" \"universities\" site:swinburne.edu.au filetype:pdf\n",
            "Searching: \"strategy plan 2025\" \"performance review\" \"burnout\" \"academic institutions\" site:swinburne.edu.au filetype:pdf\n",
            "Searching: \"strategy plan 2025\" \"institutional performance\" \"staff satisfaction\" \"tertiary education\" site:swinburne.edu.au filetype:pdf\n",
            "Searching: \"strategy plan 2025\" \"performance assessment\" \"psychological safety\" \"higher education\" site:swinburne.edu.au filetype:pdf\n",
            "Searching: \"strategy plan 2025\" \"performance appraisal\" \"work-life balance\" \"university\" site:swinburne.edu.au filetype:pdf\n",
            "Searching: \"strategy plan 2025\" \"academic kpi\" \"emotional wellbeing\" \"college\" site:swinburne.edu.au filetype:pdf\n",
            "Searching: \"strategy plan 2025\" \"teaching quality\" \"staff wellbeing\" \"university\" site:swinburne.edu.au filetype:pdf\n",
            "Searching: \"strategy plan 2025\" \"faculty performance\" \"stress\" \"higher education\" site:swinburne.edu.au filetype:pdf\n",
            "Searching: \"strategy plan 2025\" \"performance management\" \"wellbeing\" \"higher education\" site:vu.edu.au filetype:pdf\n",
            "Searching: \"strategy plan 2025\" \"staff evaluation\" \"mental health\" \"universities\" site:vu.edu.au filetype:pdf\n",
            "Searching: \"strategy plan 2025\" \"performance review\" \"burnout\" \"academic institutions\" site:vu.edu.au filetype:pdf\n",
            "Searching: \"strategy plan 2025\" \"institutional performance\" \"staff satisfaction\" \"tertiary education\" site:vu.edu.au filetype:pdf\n",
            "Searching: \"strategy plan 2025\" \"performance assessment\" \"psychological safety\" \"higher education\" site:vu.edu.au filetype:pdf\n",
            "Searching: \"strategy plan 2025\" \"performance appraisal\" \"work-life balance\" \"university\" site:vu.edu.au filetype:pdf\n",
            "Searching: \"strategy plan 2025\" \"academic kpi\" \"emotional wellbeing\" \"college\" site:vu.edu.au filetype:pdf\n",
            "Searching: \"strategy plan 2025\" \"teaching quality\" \"staff wellbeing\" \"university\" site:vu.edu.au filetype:pdf\n",
            "Searching: \"strategy plan 2025\" \"faculty performance\" \"stress\" \"higher education\" site:vu.edu.au filetype:pdf\n",
            "Searching: \"strategy plan 2025\" \"performance management\" \"wellbeing\" \"higher education\" site:federation.edu.au filetype:pdf\n",
            "Searching: \"strategy plan 2025\" \"staff evaluation\" \"mental health\" \"universities\" site:federation.edu.au filetype:pdf\n",
            "Searching: \"strategy plan 2025\" \"performance review\" \"burnout\" \"academic institutions\" site:federation.edu.au filetype:pdf\n",
            "Searching: \"strategy plan 2025\" \"institutional performance\" \"staff satisfaction\" \"tertiary education\" site:federation.edu.au filetype:pdf\n",
            "Searching: \"strategy plan 2025\" \"performance assessment\" \"psychological safety\" \"higher education\" site:federation.edu.au filetype:pdf\n",
            "Searching: \"strategy plan 2025\" \"performance appraisal\" \"work-life balance\" \"university\" site:federation.edu.au filetype:pdf\n",
            "Searching: \"strategy plan 2025\" \"academic kpi\" \"emotional wellbeing\" \"college\" site:federation.edu.au filetype:pdf\n",
            "Searching: \"strategy plan 2025\" \"teaching quality\" \"staff wellbeing\" \"university\" site:federation.edu.au filetype:pdf\n",
            "Searching: \"strategy plan 2025\" \"faculty performance\" \"stress\" \"higher education\" site:federation.edu.au filetype:pdf\n"
          ]
        }
      ]
    },
    {
      "cell_type": "code",
      "source": [
        "df = pd.DataFrame(results_all)\n",
        "df.to_excel(\"vic_university_strategy_plan_links.xlsx\", index=False)\n",
        "\n",
        "print(\"Saved results to vic_university_strategy_plan_links.xlsx\")"
      ],
      "metadata": {
        "colab": {
          "base_uri": "https://localhost:8080/"
        },
        "id": "E4y5KKqH6eMa",
        "outputId": "4724816c-8060-4e44-e1c5-488dcc12b188"
      },
      "execution_count": 17,
      "outputs": [
        {
          "output_type": "stream",
          "name": "stdout",
          "text": [
            "Saved results to vic_university_strategy_plan_links.xlsx\n"
          ]
        }
      ]
    }
  ]
}